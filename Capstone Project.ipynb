{
 "cells": [
  {
   "cell_type": "markdown",
   "metadata": {
    "editable": true
   },
   "source": [
    "# Project Title\n",
    "### Data Engineering Capstone Project\n",
    "\n",
    "#### Project Summary\n",
    "--describe your project at a high level--\n",
    "\n",
    "The project follows the follow steps:\n",
    "* Step 1: Scope the Project and Gather Data\n",
    "* Step 2: Explore and Assess the Data\n",
    "* Step 3: Define the Data Model\n",
    "* Step 4: Run ETL to Model the Data\n",
    "* Step 5: Complete Project Write Up"
   ]
  },
  {
   "cell_type": "code",
   "execution_count": 127,
   "metadata": {
    "editable": true
   },
   "outputs": [],
   "source": [
    "# Do all imports and installs here\n",
    "import pandas as pd\n",
    "import os\n",
    "import glob\n",
    "from pyspark.sql import SparkSession, SQLContext, GroupedData\n",
    "from pyspark.sql.functions import *\n",
    "from pyspark.sql.types import *"
   ]
  },
  {
   "cell_type": "code",
   "execution_count": 74,
   "metadata": {
    "editable": true
   },
   "outputs": [],
   "source": [
    "# build Spark session\n",
    "spark = SparkSession.builder.getOrCreate()"
   ]
  },
  {
   "cell_type": "code",
   "execution_count": 75,
   "metadata": {
    "editable": true
   },
   "outputs": [],
   "source": [
    "# build SQL context object\n",
    "sql_context = SQLContext(spark)"
   ]
  },
  {
   "cell_type": "markdown",
   "metadata": {
    "editable": true
   },
   "source": [
    "### Step 1: Scope the Project and Gather Data\n",
    "\n",
    "#### Scope \n",
    "Explain what you plan to do in the project in more detail. What data do you use? What is your end solution look like? What tools did you use? etc>\n",
    "\n",
    "#### Describe and Gather Data \n",
    "Describe the data sets you're using. Where did it come from? What type of information is included? "
   ]
  },
  {
   "cell_type": "markdown",
   "metadata": {
    "editable": true
   },
   "source": [
    "### U.S. City Demographic Data"
   ]
  },
  {
   "cell_type": "markdown",
   "metadata": {
    "editable": true
   },
   "source": [
    "This dataset contains information about the demographics of all US cities and census-designated places with a population greater or equal to 65,000. \n",
    "\n",
    "This data comes from the US Census Bureau's 2015 American Community Survey.\n",
    "source: https://public.opendatasoft.com/explore/dataset/us-cities-demographics/export/"
   ]
  },
  {
   "cell_type": "code",
   "execution_count": 76,
   "metadata": {
    "editable": true
   },
   "outputs": [],
   "source": [
    "# Read in the data here\n",
    "df_demographics=spark.read.format(\"csv\").option(\"header\", \"true\").option(\"delimiter\", \";\").load(\"us-cities-demographics.csv\")"
   ]
  },
  {
   "cell_type": "code",
   "execution_count": 77,
   "metadata": {
    "editable": true
   },
   "outputs": [
    {
     "name": "stdout",
     "output_type": "stream",
     "text": [
      "+----------------+--------------+----------+---------------+-----------------+----------------+------------------+------------+----------------------+----------+--------------------+-----+\n",
      "|            City|         State|Median Age|Male Population|Female Population|Total Population|Number of Veterans|Foreign-born|Average Household Size|State Code|                Race|Count|\n",
      "+----------------+--------------+----------+---------------+-----------------+----------------+------------------+------------+----------------------+----------+--------------------+-----+\n",
      "|   Silver Spring|      Maryland|      33.8|          40601|            41862|           82463|              1562|       30908|                   2.6|        MD|  Hispanic or Latino|25924|\n",
      "|          Quincy| Massachusetts|      41.0|          44129|            49500|           93629|              4147|       32935|                  2.39|        MA|               White|58723|\n",
      "|          Hoover|       Alabama|      38.5|          38040|            46799|           84839|              4819|        8229|                  2.58|        AL|               Asian| 4759|\n",
      "|Rancho Cucamonga|    California|      34.5|          88127|            87105|          175232|              5821|       33878|                  3.18|        CA|Black or African-...|24437|\n",
      "|          Newark|    New Jersey|      34.6|         138040|           143873|          281913|              5829|       86253|                  2.73|        NJ|               White|76402|\n",
      "|          Peoria|      Illinois|      33.1|          56229|            62432|          118661|              6634|        7517|                   2.4|        IL|American Indian a...| 1343|\n",
      "|        Avondale|       Arizona|      29.1|          38712|            41971|           80683|              4815|        8355|                  3.18|        AZ|Black or African-...|11592|\n",
      "|     West Covina|    California|      39.8|          51629|            56860|          108489|              3800|       37038|                  3.56|        CA|               Asian|32716|\n",
      "|        O'Fallon|      Missouri|      36.0|          41762|            43270|           85032|              5783|        3269|                  2.77|        MO|  Hispanic or Latino| 2583|\n",
      "|      High Point|North Carolina|      35.5|          51751|            58077|          109828|              5204|       16315|                  2.65|        NC|               Asian|11060|\n",
      "+----------------+--------------+----------+---------------+-----------------+----------------+------------------+------------+----------------------+----------+--------------------+-----+\n",
      "only showing top 10 rows\n",
      "\n"
     ]
    }
   ],
   "source": [
    "df_demographics.show(10)"
   ]
  },
  {
   "cell_type": "code",
   "execution_count": 78,
   "metadata": {
    "editable": true
   },
   "outputs": [
    {
     "data": {
      "text/plain": [
       "2891"
      ]
     },
     "execution_count": 78,
     "metadata": {},
     "output_type": "execute_result"
    }
   ],
   "source": [
    "df_demographics.count()"
   ]
  },
  {
   "cell_type": "markdown",
   "metadata": {
    "editable": true
   },
   "source": [
    "### Airport Code Data"
   ]
  },
  {
   "cell_type": "markdown",
   "metadata": {
    "editable": true
   },
   "source": [
    "The airport codes may refer to either IATA airport code, a three-letter code which is used in passenger reservation, ticketing and baggage-handling systems, or the ICAO airport code which is a four letter code used by ATC systems and for airports that do not have an IATA airport code (from wikipedia)."
   ]
  },
  {
   "cell_type": "code",
   "execution_count": 79,
   "metadata": {
    "editable": true
   },
   "outputs": [],
   "source": [
    "df_airports=spark.read.format(\"csv\").option(\"header\", \"true\").load(\"airport-codes_csv.csv\")"
   ]
  },
  {
   "cell_type": "code",
   "execution_count": 80,
   "metadata": {
    "editable": true
   },
   "outputs": [
    {
     "name": "stdout",
     "output_type": "stream",
     "text": [
      "+-----+-------------+--------------------+------------+---------+-----------+----------+------------+--------+---------+----------+--------------------+\n",
      "|ident|         type|                name|elevation_ft|continent|iso_country|iso_region|municipality|gps_code|iata_code|local_code|         coordinates|\n",
      "+-----+-------------+--------------------+------------+---------+-----------+----------+------------+--------+---------+----------+--------------------+\n",
      "|  00A|     heliport|   Total Rf Heliport|          11|       NA|         US|     US-PA|    Bensalem|     00A|     null|       00A|-74.9336013793945...|\n",
      "| 00AA|small_airport|Aero B Ranch Airport|        3435|       NA|         US|     US-KS|       Leoti|    00AA|     null|      00AA|-101.473911, 38.7...|\n",
      "| 00AK|small_airport|        Lowell Field|         450|       NA|         US|     US-AK|Anchor Point|    00AK|     null|      00AK|-151.695999146, 5...|\n",
      "| 00AL|small_airport|        Epps Airpark|         820|       NA|         US|     US-AL|     Harvest|    00AL|     null|      00AL|-86.7703018188476...|\n",
      "| 00AR|       closed|Newport Hospital ...|         237|       NA|         US|     US-AR|     Newport|    null|     null|      null| -91.254898, 35.6087|\n",
      "| 00AS|small_airport|      Fulton Airport|        1100|       NA|         US|     US-OK|        Alex|    00AS|     null|      00AS|-97.8180194, 34.9...|\n",
      "| 00AZ|small_airport|      Cordes Airport|        3810|       NA|         US|     US-AZ|      Cordes|    00AZ|     null|      00AZ|-112.165000915527...|\n",
      "| 00CA|small_airport|Goldstone /Gts/ A...|        3038|       NA|         US|     US-CA|     Barstow|    00CA|     null|      00CA|-116.888000488, 3...|\n",
      "| 00CL|small_airport| Williams Ag Airport|          87|       NA|         US|     US-CA|       Biggs|    00CL|     null|      00CL|-121.763427, 39.4...|\n",
      "| 00CN|     heliport|Kitchen Creek Hel...|        3350|       NA|         US|     US-CA| Pine Valley|    00CN|     null|      00CN|-116.4597417, 32....|\n",
      "+-----+-------------+--------------------+------------+---------+-----------+----------+------------+--------+---------+----------+--------------------+\n",
      "only showing top 10 rows\n",
      "\n"
     ]
    }
   ],
   "source": [
    "df_airports.show(10)"
   ]
  },
  {
   "cell_type": "code",
   "execution_count": 81,
   "metadata": {
    "editable": true
   },
   "outputs": [
    {
     "data": {
      "text/plain": [
       "55075"
      ]
     },
     "execution_count": 81,
     "metadata": {},
     "output_type": "execute_result"
    }
   ],
   "source": [
    "df_airports.count()"
   ]
  },
  {
   "cell_type": "markdown",
   "metadata": {
    "editable": true
   },
   "source": [
    "### World Temperature Data"
   ]
  },
  {
   "cell_type": "markdown",
   "metadata": {
    "editable": true
   },
   "source": [
    "source: https://www.kaggle.com/berkeleyearth/climate-change-earth-surface-temperature-data"
   ]
  },
  {
   "cell_type": "code",
   "execution_count": 82,
   "metadata": {
    "editable": true
   },
   "outputs": [],
   "source": [
    "df_temperature=spark.read.format(\"csv\").option(\"header\", \"true\").load(\"GlobalLandTemperaturesByCity.csv\")"
   ]
  },
  {
   "cell_type": "code",
   "execution_count": 83,
   "metadata": {
    "editable": true
   },
   "outputs": [
    {
     "name": "stdout",
     "output_type": "stream",
     "text": [
      "+----------+------------------+-----------------------------+-----+-------+--------+---------+\n",
      "|        dt|AverageTemperature|AverageTemperatureUncertainty| City|Country|Latitude|Longitude|\n",
      "+----------+------------------+-----------------------------+-----+-------+--------+---------+\n",
      "|1743-11-01|             6.068|           1.7369999999999999|Århus|Denmark|  57.05N|   10.33E|\n",
      "|1743-12-01|              null|                         null|Århus|Denmark|  57.05N|   10.33E|\n",
      "|1744-01-01|              null|                         null|Århus|Denmark|  57.05N|   10.33E|\n",
      "|1744-02-01|              null|                         null|Århus|Denmark|  57.05N|   10.33E|\n",
      "|1744-03-01|              null|                         null|Århus|Denmark|  57.05N|   10.33E|\n",
      "|1744-04-01|5.7879999999999985|           3.6239999999999997|Århus|Denmark|  57.05N|   10.33E|\n",
      "|1744-05-01|            10.644|           1.2830000000000001|Århus|Denmark|  57.05N|   10.33E|\n",
      "|1744-06-01|14.050999999999998|                        1.347|Århus|Denmark|  57.05N|   10.33E|\n",
      "|1744-07-01|            16.082|                        1.396|Århus|Denmark|  57.05N|   10.33E|\n",
      "|1744-08-01|              null|                         null|Århus|Denmark|  57.05N|   10.33E|\n",
      "+----------+------------------+-----------------------------+-----+-------+--------+---------+\n",
      "only showing top 10 rows\n",
      "\n"
     ]
    }
   ],
   "source": [
    "df_temperature.show(10)"
   ]
  },
  {
   "cell_type": "code",
   "execution_count": 84,
   "metadata": {
    "editable": true
   },
   "outputs": [
    {
     "data": {
      "text/plain": [
       "8599212"
      ]
     },
     "execution_count": 84,
     "metadata": {},
     "output_type": "execute_result"
    }
   ],
   "source": [
    "df_temperature.count()"
   ]
  },
  {
   "cell_type": "markdown",
   "metadata": {
    "editable": true
   },
   "source": [
    "### I94 Immigration Data"
   ]
  },
  {
   "cell_type": "markdown",
   "metadata": {
    "editable": true
   },
   "source": [
    "This data comes from the US National Tourism and Trade Office. \n",
    "In addition to providing statistics, the National Travel and Tourism Office (NTTO) creates a positive climate for growth in travel and tourism by reducing institutional barriers to tourism, administers joint marketing efforts, provides official travel and tourism statistics, and coordinates efforts across federal agencies through the Tourism Policy Council. \n",
    "source: https://www.trade.gov/national-travel-and-tourism-office"
   ]
  },
  {
   "cell_type": "code",
   "execution_count": 85,
   "metadata": {
    "editable": true
   },
   "outputs": [],
   "source": [
    "df_immegration_i94=spark.read.format(\"csv\").option(\"header\", \"true\").load(\"immigration_data_sample.csv\")"
   ]
  },
  {
   "cell_type": "code",
   "execution_count": 86,
   "metadata": {
    "editable": true
   },
   "outputs": [
    {
     "name": "stdout",
     "output_type": "stream",
     "text": [
      "+-------+---------+------+------+------+------+-------+-------+-------+-------+-------+------+-------+-----+--------+--------+-----+-------+-------+-------+-------+-------+--------+------+------+-------+-------------+-----+--------+\n",
      "|    _c0|    cicid| i94yr|i94mon|i94cit|i94res|i94port|arrdate|i94mode|i94addr|depdate|i94bir|i94visa|count|dtadfile|visapost|occup|entdepa|entdepd|entdepu|matflag|biryear| dtaddto|gender|insnum|airline|       admnum|fltno|visatype|\n",
      "+-------+---------+------+------+------+------+-------+-------+-------+-------+-------+------+-------+-----+--------+--------+-----+-------+-------+-------+-------+-------+--------+------+------+-------+-------------+-----+--------+\n",
      "|2027561|4084316.0|2016.0|   4.0| 209.0| 209.0|    HHW|20566.0|    1.0|     HI|20573.0|  61.0|    2.0|  1.0|20160422|    null| null|      G|      O|   null|      M| 1955.0|07202016|     F|  null|     JL|56582674633.0|00782|      WT|\n",
      "|2171295|4422636.0|2016.0|   4.0| 582.0| 582.0|    MCA|20567.0|    1.0|     TX|20568.0|  26.0|    2.0|  1.0|20160423|     MTR| null|      G|      R|   null|      M| 1990.0|10222016|     M|  null|    *GA|94361995930.0|XBLNG|      B2|\n",
      "| 589494|1195600.0|2016.0|   4.0| 148.0| 112.0|    OGG|20551.0|    1.0|     FL|20571.0|  76.0|    2.0|  1.0|20160407|    null| null|      G|      O|   null|      M| 1940.0|07052016|     M|  null|     LH|55780468433.0|00464|      WT|\n",
      "|2631158|5291768.0|2016.0|   4.0| 297.0| 297.0|    LOS|20572.0|    1.0|     CA|20581.0|  25.0|    2.0|  1.0|20160428|     DOH| null|      G|      O|   null|      M| 1991.0|10272016|     M|  null|     QR|94789696030.0|00739|      B2|\n",
      "|3032257| 985523.0|2016.0|   4.0| 111.0| 111.0|    CHM|20550.0|    3.0|     NY|20553.0|  19.0|    2.0|  1.0|20160406|    null| null|      Z|      K|   null|      M| 1997.0|07042016|     F|  null|   null|42322572633.0| LAND|      WT|\n",
      "| 721257|1481650.0|2016.0|   4.0| 577.0| 577.0|    ATL|20552.0|    1.0|     GA|20606.0|  51.0|    2.0|  1.0|20160408|    null| null|      T|      N|   null|      M| 1965.0|10072016|     M|  null|     DL|  736852585.0|  910|      B2|\n",
      "|1072780|2197173.0|2016.0|   4.0| 245.0| 245.0|    SFR|20556.0|    1.0|     CA|20635.0|  48.0|    2.0|  1.0|20160412|    null| null|      T|      O|   null|      M| 1968.0|10112016|     F|  null|     CX|  786312185.0|  870|      B2|\n",
      "| 112205| 232708.0|2016.0|   4.0| 113.0| 135.0|    NYC|20546.0|    1.0|     NY|20554.0|  33.0|    2.0|  1.0|20160402|    null| null|      G|      O|   null|      M| 1983.0|06302016|     F|  null|     BA|55474485033.0|00117|      WT|\n",
      "|2577162|5227851.0|2016.0|   4.0| 131.0| 131.0|    CHI|20572.0|    1.0|     IL|20575.0|  39.0|    2.0|  1.0|20160428|    null| null|      O|      O|   null|      M| 1977.0|07262016|  null|  null|     LX|59413424733.0|00008|      WT|\n",
      "|  10930|  13213.0|2016.0|   4.0| 116.0| 116.0|    LOS|20545.0|    1.0|     CA|20553.0|  35.0|    2.0|  1.0|20160401|    null| null|      O|      O|   null|      M| 1981.0|06292016|  null|  null|     AA|55449792933.0|00109|      WT|\n",
      "+-------+---------+------+------+------+------+-------+-------+-------+-------+-------+------+-------+-----+--------+--------+-----+-------+-------+-------+-------+-------+--------+------+------+-------+-------------+-----+--------+\n",
      "only showing top 10 rows\n",
      "\n"
     ]
    }
   ],
   "source": [
    "df_immegration_i94.show(10)"
   ]
  },
  {
   "cell_type": "code",
   "execution_count": 87,
   "metadata": {
    "editable": true
   },
   "outputs": [
    {
     "data": {
      "text/plain": [
       "1000"
      ]
     },
     "execution_count": 87,
     "metadata": {},
     "output_type": "execute_result"
    }
   ],
   "source": [
    "df_immegration_i94.count()"
   ]
  },
  {
   "cell_type": "code",
   "execution_count": null,
   "metadata": {
    "editable": true
   },
   "outputs": [],
   "source": []
  },
  {
   "cell_type": "code",
   "execution_count": 88,
   "metadata": {
    "editable": true
   },
   "outputs": [],
   "source": [
    "# from pyspark.sql import SparkSession\n",
    "\n",
    "# spark = SparkSession.builder.\\\n",
    "# config(\"spark.jars.repositories\", \"https://repos.spark-packages.org/\").\\\n",
    "# config(\"spark.jars.packages\", \"saurfang:spark-sas7bdat:2.0.0-s_2.11\").\\\n",
    "# enableHiveSupport().getOrCreate()\n",
    "\n",
    "# df_spark = spark.read.format('com.github.saurfang.sas.spark').load('../../data/18-83510-I94-Data-2016/i94_apr16_sub.sas7bdat')\n"
   ]
  },
  {
   "cell_type": "code",
   "execution_count": 89,
   "metadata": {
    "editable": true
   },
   "outputs": [],
   "source": [
    "#write to parquet\n",
    "# df_spark.write.parquet(\"sas_data\")\n",
    "# df_spark=spark.read.parquet(\"sas_data\")"
   ]
  },
  {
   "cell_type": "markdown",
   "metadata": {
    "editable": true
   },
   "source": [
    "### Step 2: Explore and Assess the Data\n",
    "#### Explore the Data \n",
    "Identify data quality issues, like missing values, duplicate data, etc.\n",
    "\n",
    "#### Cleaning Steps\n",
    "Document steps necessary to clean the data"
   ]
  },
  {
   "cell_type": "markdown",
   "metadata": {
    "editable": true
   },
   "source": [
    "# Performing cleaning tasks here\n",
    "- Filter average temperature data only for the United States and only year == 2011 and create new fields with year, month, average temperature.\n",
    "- Remove nulls then convert i94res codes to country of origin then select important columns from the immigration data and drop duplicates.\n",
    "- Sort city demographic data then calculate percentages and select percentages fields and drop duplicates.\n",
    "Filter airport data for \"small_airport\" and use substring to return the state code.\n",
    "\n",
    "\n"
   ]
  },
  {
   "cell_type": "code",
   "execution_count": 90,
   "metadata": {
    "editable": true
   },
   "outputs": [],
   "source": [
    "import re\n",
    "from us_state_abbrev import state_udf, abbrev_state, abbrev_state_udf,city_code_udf,city_codes\n",
    "from immigration_codes import country_udf"
   ]
  },
  {
   "cell_type": "code",
   "execution_count": 91,
   "metadata": {
    "editable": true
   },
   "outputs": [],
   "source": [
    "df_temp_us = df_temperature.filter(df_temperature[\"country\"]==\"United States\")\\\n",
    ".filter(year(df_temperature[\"dt\"])==2011)\\\n",
    ".withColumn(\"year\",year(df_temperature[\"dt\"]))\\\n",
    ".withColumn(\"month\",month(df_temperature[\"dt\"]))\\\n",
    ".withColumn(\"avg_temp\",df_temperature[\"AverageTemperature\"])"
   ]
  },
  {
   "cell_type": "code",
   "execution_count": 92,
   "metadata": {
    "editable": true
   },
   "outputs": [
    {
     "name": "stdout",
     "output_type": "stream",
     "text": [
      "+----------+------------------+-----------------------------+-------+-------------+--------+---------+----+-----+------------------+\n",
      "|        dt|AverageTemperature|AverageTemperatureUncertainty|   City|      Country|Latitude|Longitude|year|month|          avg_temp|\n",
      "+----------+------------------+-----------------------------+-------+-------------+--------+---------+----+-----+------------------+\n",
      "|2011-01-01| 5.002000000000002|                        0.213|Abilene|United States|  32.95N|  100.53W|2011|    1| 5.002000000000002|\n",
      "|2011-02-01|             6.968|                        0.262|Abilene|United States|  32.95N|  100.53W|2011|    2|             6.968|\n",
      "|2011-03-01|            14.561|          0.37200000000000005|Abilene|United States|  32.95N|  100.53W|2011|    3|            14.561|\n",
      "|2011-04-01|            20.344|          0.23199999999999998|Abilene|United States|  32.95N|  100.53W|2011|    4|            20.344|\n",
      "|2011-05-01|            23.225|                        0.278|Abilene|United States|  32.95N|  100.53W|2011|    5|            23.225|\n",
      "|2011-06-01|            31.135|                        0.342|Abilene|United States|  32.95N|  100.53W|2011|    6|            31.135|\n",
      "|2011-07-01|            31.954|          0.14800000000000002|Abilene|United States|  32.95N|  100.53W|2011|    7|            31.954|\n",
      "|2011-08-01|             32.11|                        0.201|Abilene|United States|  32.95N|  100.53W|2011|    8|             32.11|\n",
      "|2011-09-01|24.473000000000003|                        0.385|Abilene|United States|  32.95N|  100.53W|2011|    9|24.473000000000003|\n",
      "|2011-10-01|18.250999999999998|                         0.27|Abilene|United States|  32.95N|  100.53W|2011|   10|18.250999999999998|\n",
      "+----------+------------------+-----------------------------+-------+-------------+--------+---------+----+-----+------------------+\n",
      "only showing top 10 rows\n",
      "\n"
     ]
    }
   ],
   "source": [
    "df_temp_us.show(10)"
   ]
  },
  {
   "cell_type": "code",
   "execution_count": 93,
   "metadata": {
    "editable": true
   },
   "outputs": [
    {
     "data": {
      "text/plain": [
       "3084"
      ]
     },
     "execution_count": 93,
     "metadata": {},
     "output_type": "execute_result"
    }
   ],
   "source": [
    "df_temp_us.count()"
   ]
  },
  {
   "cell_type": "code",
   "execution_count": 94,
   "metadata": {
    "editable": true
   },
   "outputs": [],
   "source": [
    "# determine the valid port\n",
    "valid_port = {}\n",
    "re_obj = re.compile(r'\\'(.*)\\'.*\\'(.*)\\'')\n",
    "with open('i94_port.txt') as f:\n",
    "     for data in f:\n",
    "            port = re_obj.search(data)\n",
    "            valid_port[port[1]]=[port[2]]"
   ]
  },
  {
   "cell_type": "code",
   "execution_count": 95,
   "metadata": {
    "editable": true
   },
   "outputs": [],
   "source": [
    "@udf()\n",
    "def get_city(city):\n",
    "    for key in valid_port:\n",
    "        if city.lower() in valid_port[key][0].lower():\n",
    "            return key"
   ]
  },
  {
   "cell_type": "code",
   "execution_count": 96,
   "metadata": {
    "editable": true
   },
   "outputs": [],
   "source": [
    "df_temp_us_valid_port = df_temp_us.withColumn(\"port_code\", get_city(df_temp_us.City))"
   ]
  },
  {
   "cell_type": "code",
   "execution_count": 97,
   "metadata": {
    "editable": true
   },
   "outputs": [],
   "source": [
    "df_temp_us_valid_port_filtered= df_temp_us_valid_port.filter(df_temp_us_valid_port.port_code != \"null\")"
   ]
  },
  {
   "cell_type": "code",
   "execution_count": 98,
   "metadata": {
    "editable": true
   },
   "outputs": [],
   "source": [
    "df_temp_us_valid_port_filtered=df_temp_us_valid_port_filtered.select(\"year\",\"month\",round(col(\"avg_temp\"),1).alias(\"avg_temp\"),\"port_code\",\"City\",\"Country\").dropDuplicates()"
   ]
  },
  {
   "cell_type": "markdown",
   "metadata": {
    "editable": true
   },
   "source": [
    "Temperature Table\n",
    "- year \n",
    "- month\n",
    "- avg_temp\n",
    "- port_code : code of the city visited\n",
    "- City : name of the city visited\n",
    "- Country : United States for all data"
   ]
  },
  {
   "cell_type": "code",
   "execution_count": 99,
   "metadata": {
    "editable": true
   },
   "outputs": [
    {
     "name": "stdout",
     "output_type": "stream",
     "text": [
      "+----+-----+--------+---------+-----------+-------------+\n",
      "|year|month|avg_temp|port_code|       City|      Country|\n",
      "+----+-----+--------+---------+-----------+-------------+\n",
      "|2011|   10|    19.3|      SRQ|     Denton|United States|\n",
      "|2011|    4|    10.6|      JER|Jersey City|United States|\n",
      "|2011|   11|     5.3|      LLB|    Lincoln|United States|\n",
      "|2011|   12|     6.9|      RCM|   Richmond|United States|\n",
      "|2011|   12|     0.8|      SPI|Springfield|United States|\n",
      "|2011|    9|    20.5|      STO|   Stockton|United States|\n",
      "|2011|    8|    32.2|      AUS|     Austin|United States|\n",
      "|2011|    3|     5.0|      DEN|     Denver|United States|\n",
      "|2011|   12|     3.6|      ELP|    El Paso|United States|\n",
      "|2011|    3|    11.9|      FTF|  Fairfield|United States|\n",
      "+----+-----+--------+---------+-----------+-------------+\n",
      "only showing top 10 rows\n",
      "\n"
     ]
    }
   ],
   "source": [
    "df_temp_us_valid_port_filtered.show(10)"
   ]
  },
  {
   "cell_type": "code",
   "execution_count": 100,
   "metadata": {
    "editable": true
   },
   "outputs": [
    {
     "data": {
      "text/plain": [
       "1404"
      ]
     },
     "execution_count": 100,
     "metadata": {},
     "output_type": "execute_result"
    }
   ],
   "source": [
    "df_temp_us_valid_port_filtered.count()"
   ]
  },
  {
   "cell_type": "markdown",
   "metadata": {
    "editable": true
   },
   "source": [
    "### Immigration Data"
   ]
  },
  {
   "cell_type": "code",
   "execution_count": 101,
   "metadata": {
    "editable": true
   },
   "outputs": [],
   "source": [
    "df_immigration = df_immegration_i94.filter(df_immegration_i94.i94port.isin(list(valid_port.keys())))"
   ]
  },
  {
   "cell_type": "code",
   "execution_count": 102,
   "metadata": {
    "editable": true
   },
   "outputs": [
    {
     "data": {
      "text/plain": [
       "999"
      ]
     },
     "execution_count": 102,
     "metadata": {},
     "output_type": "execute_result"
    }
   ],
   "source": [
    "df_immigration.count()"
   ]
  },
  {
   "cell_type": "code",
   "execution_count": 103,
   "metadata": {
    "editable": true
   },
   "outputs": [],
   "source": [
    "df_immigration_filtered = df_immigration.filter(df_immigration.i94addr.isNotNull())\\\n",
    ".filter(df_immigration.i94res.isNotNull())\\\n",
    ".withColumn(\"city_port_name\",city_code_udf(df_immigration[\"i94port\"]))"
   ]
  },
  {
   "cell_type": "code",
   "execution_count": 104,
   "metadata": {
    "editable": true
   },
   "outputs": [],
   "source": [
    "immigration_data_df=df_immigration_filtered.select(\"cicid\",col(\"i94yr\").alias(\"year\"),col(\"i94mon\").alias(\"month\"),\\\n",
    "\"city_port_name\",col(\"i94res\").alias(\"origin_country\"),\"i94port\",col(\"i94addr\").alias(\"state_code\"),\"arrdate\", \"i94mode\", \"depdate\", \"i94visa\")"
   ]
  },
  {
   "cell_type": "code",
   "execution_count": 105,
   "metadata": {
    "editable": true
   },
   "outputs": [
    {
     "name": "stdout",
     "output_type": "stream",
     "text": [
      "+---------+------+-----+------------------+--------------+-------+----------+-------+-------+-------+-------+\n",
      "|    cicid|  year|month|    city_port_name|origin_country|i94port|state_code|arrdate|i94mode|depdate|i94visa|\n",
      "+---------+------+-----+------------------+--------------+-------+----------+-------+-------+-------+-------+\n",
      "|4084316.0|2016.0|  4.0|HONOLULU          |         209.0|    HHW|        HI|20566.0|    1.0|20573.0|    2.0|\n",
      "|4422636.0|2016.0|  4.0|MCALLEN           |         582.0|    MCA|        TX|20567.0|    1.0|20568.0|    2.0|\n",
      "|1195600.0|2016.0|  4.0|    KAHULUI - MAUI|         112.0|    OGG|        FL|20551.0|    1.0|20571.0|    2.0|\n",
      "|5291768.0|2016.0|  4.0|LOS ANGELES       |         297.0|    LOS|        CA|20572.0|    1.0|20581.0|    2.0|\n",
      "| 985523.0|2016.0|  4.0|CHAMPLAIN         |         111.0|    CHM|        NY|20550.0|    3.0|20553.0|    2.0|\n",
      "|1481650.0|2016.0|  4.0|ATLANTA           |         577.0|    ATL|        GA|20552.0|    1.0|20606.0|    2.0|\n",
      "|2197173.0|2016.0|  4.0|SAN FRANCISCO     |         245.0|    SFR|        CA|20556.0|    1.0|20635.0|    2.0|\n",
      "| 232708.0|2016.0|  4.0|NEW YORK          |         135.0|    NYC|        NY|20546.0|    1.0|20554.0|    2.0|\n",
      "|5227851.0|2016.0|  4.0|CHICAGO           |         131.0|    CHI|        IL|20572.0|    1.0|20575.0|    2.0|\n",
      "|  13213.0|2016.0|  4.0|LOS ANGELES       |         116.0|    LOS|        CA|20545.0|    1.0|20553.0|    2.0|\n",
      "+---------+------+-----+------------------+--------------+-------+----------+-------+-------+-------+-------+\n",
      "only showing top 10 rows\n",
      "\n"
     ]
    }
   ],
   "source": [
    "immigration_data_df.show(10)"
   ]
  },
  {
   "cell_type": "code",
   "execution_count": 106,
   "metadata": {
    "editable": true
   },
   "outputs": [
    {
     "data": {
      "text/plain": [
       "940"
      ]
     },
     "execution_count": 106,
     "metadata": {},
     "output_type": "execute_result"
    }
   ],
   "source": [
    "immigration_data_df.count()"
   ]
  },
  {
   "cell_type": "markdown",
   "metadata": {
    "editable": true
   },
   "source": [
    "## Immigration Table\n",
    "- cicid\n",
    "- year : year\n",
    "- month : month\n",
    "- city_port_name : name of the arrival city\n",
    "- origin_country : country of residence\n",
    "- i94port : arrival airport (city visited)\n",
    "- state_code : code of arrival state\n",
    "- arrdate : arrival date\n",
    "- i94mode : 1 digit travel code\n",
    "- depdate = departure date from the USA,\n",
    "- i94visa = reason for immigration,\n"
   ]
  },
  {
   "cell_type": "code",
   "execution_count": 109,
   "metadata": {
    "editable": true
   },
   "outputs": [],
   "source": [
    "# calculate percentages for numeric columns\n",
    "demographics_data=df_demographics\\\n",
    ".withColumn(\"Median Age\",col(\"Median Age\").cast(\"float\"))\\\n",
    ".withColumn(\"male_pop_prc\",df_demographics[\"Male Population\"]/df_demographics[\"Total Population\"]*100)\\\n",
    ".withColumn(\"female_pop_prc\",df_demographics[\"Female Population\"]/df_demographics[\"Total Population\"]*100)\\\n",
    ".withColumn(\"veterans_prc\",df_demographics[\"Number of Veterans\"]/df_demographics[\"Total Population\"]*100)\\\n",
    ".withColumn(\"foreign_born_prc\",df_demographics[\"Foreign-born\"]/df_demographics[\"Total Population\"]*100)\\\n",
    ".withColumn(\"race_prc\",df_demographics[\"Count\"]/df_demographics[\"Total Population\"]*100)\\\n",
    ".orderBy(\"State\")"
   ]
  },
  {
   "cell_type": "code",
   "execution_count": 110,
   "metadata": {
    "editable": true
   },
   "outputs": [
    {
     "name": "stdout",
     "output_type": "stream",
     "text": [
      "+----------+-------+----------+---------------+-----------------+----------------+------------------+------------+----------------------+----------+--------------------+-----+------------------+------------------+-----------------+------------------+------------------+\n",
      "|      City|  State|Median Age|Male Population|Female Population|Total Population|Number of Veterans|Foreign-born|Average Household Size|State Code|                Race|Count|      male_pop_prc|    female_pop_prc|     veterans_prc|  foreign_born_prc|          race_prc|\n",
      "+----------+-------+----------+---------------+-----------------+----------------+------------------+------------+----------------------+----------+--------------------+-----+------------------+------------------+-----------------+------------------+------------------+\n",
      "|Huntsville|Alabama|      38.1|          91764|            97350|          189114|             16637|       12691|                  2.18|        AL|Black or African-...|61561| 48.52311304292649| 51.47688695707351|8.797339171081992| 6.710767050562094|32.552322937487446|\n",
      "|Huntsville|Alabama|      38.1|          91764|            97350|          189114|             16637|       12691|                  2.18|        AL|               Asian| 6566| 48.52311304292649| 51.47688695707351|8.797339171081992| 6.710767050562094|3.4719798639973773|\n",
      "|    Dothan|Alabama|      38.9|          32172|            35364|           67536|              6334|        1699|                  2.59|        AL|               Asian| 1175|47.636815920398014|52.363184079601986|9.378701729447998| 2.515695332859512|1.7398128405591091|\n",
      "|    Hoover|Alabama|      38.5|          38040|            46799|           84839|              4819|        8229|                  2.58|        AL|               Asian| 4759|  44.8378693761124| 55.16213062388759| 5.68017067622202| 9.699548556677943| 5.609448484777048|\n",
      "|    Dothan|Alabama|      38.9|          32172|            35364|           67536|              6334|        1699|                  2.59|        AL|  Hispanic or Latino| 1704|47.636815920398014|52.363184079601986|9.378701729447998| 2.515695332859512| 2.523098791755508|\n",
      "|Huntsville|Alabama|      38.1|          91764|            97350|          189114|             16637|       12691|                  2.18|        AL|  Hispanic or Latino|10887| 48.52311304292649| 51.47688695707351|8.797339171081992| 6.710767050562094| 5.756845077572257|\n",
      "|Montgomery|Alabama|      35.4|          94582|           106004|          200586|             14955|        9337|                  2.41|        AL|American Indian a...| 1277| 47.15284217243477| 52.84715782756524|7.455654931052018|4.6548612565184015|0.6366346604448964|\n",
      "|Tuscaloosa|Alabama|      29.1|          47293|            51045|           98338|              3647|        4706|                  2.67|        AL|  Hispanic or Latino| 2475| 48.09229392503407| 51.90770607496593|3.708637556183774| 4.785535601700258| 2.516829709776485|\n",
      "|Montgomery|Alabama|      35.4|          94582|           106004|          200586|             14955|        9337|                  2.41|        AL|  Hispanic or Latino| 6648| 47.15284217243477| 52.84715782756524|7.455654931052018|4.6548612565184015|3.3142891328407766|\n",
      "|Montgomery|Alabama|      35.4|          94582|           106004|          200586|             14955|        9337|                  2.41|        AL|               White|73545| 47.15284217243477| 52.84715782756524|7.455654931052018|4.6548612565184015|36.665071340970954|\n",
      "+----------+-------+----------+---------------+-----------------+----------------+------------------+------------+----------------------+----------+--------------------+-----+------------------+------------------+-----------------+------------------+------------------+\n",
      "only showing top 10 rows\n",
      "\n"
     ]
    }
   ],
   "source": [
    "demographics_data.show(10)"
   ]
  },
  {
   "cell_type": "code",
   "execution_count": 111,
   "metadata": {
    "editable": true
   },
   "outputs": [],
   "source": [
    "#Select columns with new calculated percentages and state names.\n",
    "demographics_data_renamed=demographics_data.select(\"State\",col(\"State Code\").alias(\"state_code\"),\\\n",
    "                                                         col(\"Median Age\").alias(\"median_age\"),\\\n",
    "                                                         \"male_pop_prc\",\\\n",
    "                                                         \"female_pop_prc\",\\\n",
    "                                                         \"veterans_prc\",\\\n",
    "                                                         \"foreign_born_prc\",\\\n",
    "                                                         \"race_prc\",\\\n",
    "                                                         \"Race\")"
   ]
  },
  {
   "cell_type": "code",
   "execution_count": 112,
   "metadata": {
    "editable": true
   },
   "outputs": [],
   "source": [
    "# pivot the Race column\n",
    "demographics_data_pivoted=demographics_data_renamed.groupBy(\"State\",\"state_code\",\\\n",
    "                                             \"median_age\",\"male_pop_prc\",\\\n",
    "                                             \"female_pop_prc\",\"veterans_prc\",\\\n",
    "                                              \"foreign_born_prc\").pivot(\"Race\").avg(\"race_prc\")"
   ]
  },
  {
   "cell_type": "code",
   "execution_count": 113,
   "metadata": {
    "editable": true
   },
   "outputs": [
    {
     "name": "stdout",
     "output_type": "stream",
     "text": [
      "+-------+----------+----------+------------------+------------------+------------------+------------------+---------------------------------+------------------+-------------------------+------------------+------------------+\n",
      "|  State|state_code|median_age|      male_pop_prc|    female_pop_prc|      veterans_prc|  foreign_born_prc|American Indian and Alaska Native|             Asian|Black or African-American|Hispanic or Latino|             White|\n",
      "+-------+----------+----------+------------------+------------------+------------------+------------------+---------------------------------+------------------+-------------------------+------------------+------------------+\n",
      "|Alabama|        AL|      38.5|  44.8378693761124| 55.16213062388759|  5.68017067622202| 9.699548556677943|                             null| 5.609448484777048|       21.441789742924833| 4.042951944270913| 72.92518770848314|\n",
      "|Alabama|        AL|      35.4| 47.15284217243477| 52.84715782756524| 7.455654931052018|4.6548612565184015|               0.6366346604448964| 3.249479026452494|       60.502727009861104|3.3142891328407766|36.665071340970954|\n",
      "|Alabama|        AL|      38.1| 48.52311304292649| 51.47688695707351| 8.797339171081992| 6.710767050562094|               0.9280116754973191|3.4719798639973773|       32.552322937487446| 5.756845077572257|  64.4605899087323|\n",
      "|Alabama|        AL|      35.6|47.518275006863306|52.481724993136694|6.1476611248377235| 3.842520857471232|                 0.61374243291409|0.6979633429652274|         73.5118258255743| 4.159861524072755|24.069498536603522|\n",
      "|Alabama|        AL|      38.9|47.636815920398014|52.363184079601986| 9.378701729447998| 2.515695332859512|               0.9713338071547027|1.7398128405591091|        34.41571902392798| 2.523098791755508| 64.43378346363421|\n",
      "|Alabama|        AL|      29.1| 48.09229392503407| 51.90770607496593| 3.708637556183774| 4.785535601700258|               0.2654111330309748| 2.779190140128943|        43.04643169476703| 2.516829709776485|53.492037666009075|\n",
      "|Alabama|        AL|      38.0| 46.97511644064743| 53.02488355935257| 6.144463601039603|3.7230127891716633|               1.4492679035536913|2.8398651604436322|        49.61117830215383|2.6911299246030724| 48.25146033298166|\n",
      "| Alaska|        AK|      32.2|51.204405832036024|48.795594167963976| 9.204037563400794|11.134434791342338|               12.165921759654497|12.328629538492441|        7.735984867506988|  9.12670115000251| 71.20842330805671|\n",
      "|Arizona|        AZ|      29.1| 47.98036761151668| 52.01963238848333| 5.967799908283034|10.355341273874298|               0.7597635189569054|3.5050754186135866|       14.367338844614109| 43.02765142595094| 77.06208247090464|\n",
      "|Arizona|        AZ|      36.9| 49.80533366678465| 50.19466633321535|6.7413682383385645|12.184819628978898|               3.4003556343028145|3.0960106647902963|         4.81081230011466|27.854134831603556| 87.53308903785873|\n",
      "+-------+----------+----------+------------------+------------------+------------------+------------------+---------------------------------+------------------+-------------------------+------------------+------------------+\n",
      "only showing top 10 rows\n",
      "\n"
     ]
    }
   ],
   "source": [
    "demographics_data_pivoted.show(10)"
   ]
  },
  {
   "cell_type": "code",
   "execution_count": 114,
   "metadata": {
    "editable": true
   },
   "outputs": [],
   "source": [
    "demographics_data_pivoted_renamed=demographics_data_pivoted.select(\"State\",\"state_code\",\"median_age\",\"male_pop_prc\",\\\n",
    "                                         \"female_pop_prc\",\"veterans_prc\",\"foreign_born_prc\",\\\n",
    "                                         col(\"American Indian and Alaska Native\").alias(\"native_american\"),\\\n",
    "                                         col(\"Asian\"),col(\"Black or African-American\").alias(\"Black\"),\\\n",
    "                                         col(\"Hispanic or Latino\").alias(\"hispanic_or_latino\"),\"White\")"
   ]
  },
  {
   "cell_type": "code",
   "execution_count": 115,
   "metadata": {
    "editable": true
   },
   "outputs": [],
   "source": [
    "final_demographics_data=demographics_data_pivoted_renamed.groupBy(\"State\",\"state_code\").avg(\"median_age\",\"male_pop_prc\",\"female_pop_prc\",\\\n",
    "                                                       \"veterans_prc\",\"foreign_born_prc\",\"native_american\",\\\n",
    "                                                       \"Asian\",\"Black\",\"hispanic_or_latino\",\"White\").orderBy(\"State\")"
   ]
  },
  {
   "cell_type": "code",
   "execution_count": 116,
   "metadata": {
    "editable": true
   },
   "outputs": [],
   "source": [
    "#Round the percentages and fix column names\n",
    "final_demographics_data=final_demographics_data.select(\"State\",\"state_code\",round(col(\"avg(median_age)\"),1).alias(\"median_age\"),\\\n",
    "                  round(col(\"avg(male_pop_prc)\"),2).alias(\"male_pop_prc\"),\\\n",
    "                   round(col(\"avg(female_pop_prc)\"),2).alias(\"female_pop_prc\"),\\\n",
    "                   round(col(\"avg(veterans_prc)\"),2).alias(\"veterans_prc\"),\\\n",
    "                   round(col(\"avg(foreign_born_prc)\"),2).alias(\"foreign_born_prc\"),\\\n",
    "                   round(col(\"avg(native_american)\"),2).alias(\"native_american\"),\\\n",
    "                   round(col(\"avg(Asian)\"),2).alias(\"Asian\"),\\\n",
    "                   round(col(\"avg(hispanic_or_latino)\"),2).alias(\"hispanic_or_latino\"),\\\n",
    "                   round(col(\"avg(Black)\"),2).alias(\"Black\"),\\\n",
    "                   round(col('avg(White)'),2).alias('White')\n",
    "                  )"
   ]
  },
  {
   "cell_type": "code",
   "execution_count": 117,
   "metadata": {
    "editable": true
   },
   "outputs": [
    {
     "name": "stdout",
     "output_type": "stream",
     "text": [
      "+--------------------+----------+----------+------------+--------------+------------+----------------+---------------+-----+------------------+-----+-----+\n",
      "|               State|state_code|median_age|male_pop_prc|female_pop_prc|veterans_prc|foreign_born_prc|native_american|Asian|hispanic_or_latino|Black|White|\n",
      "+--------------------+----------+----------+------------+--------------+------------+----------------+---------------+-----+------------------+-----+-----+\n",
      "|             Alabama|        AL|      36.2|       47.25|         52.75|        6.76|            5.13|           0.81| 2.91|              3.57|45.01|52.04|\n",
      "|              Alaska|        AK|      32.2|        51.2|          48.8|         9.2|           11.13|          12.17|12.33|              9.13| 7.74|71.21|\n",
      "|             Arizona|        AZ|      35.0|       48.81|         51.19|        6.61|           12.64|           2.82| 5.13|             28.77| 6.01|82.68|\n",
      "|            Arkansas|        AR|      32.8|       48.41|         51.59|        5.21|           10.72|           1.83|  4.1|             14.17|21.85|68.03|\n",
      "|          California|        CA|      36.2|       49.36|         50.64|        4.13|           27.57|           1.67|17.93|             37.81| 7.45|62.67|\n",
      "|            Colorado|        CO|      35.8|       49.38|         50.62|        6.15|            9.58|           2.04| 4.93|              22.2| 4.21|87.95|\n",
      "|         Connecticut|        CT|      35.0|       48.92|         51.08|        2.92|           25.21|           1.26| 5.34|             34.81|24.28|59.61|\n",
      "|            Delaware|        DE|      36.4|       45.42|         54.58|        4.26|            4.64|           0.58| 1.66|              7.67| 61.4| 33.0|\n",
      "|District of Columbia|        DC|      33.8|       47.56|         52.44|        3.86|           14.15|           0.91| 5.22|             10.58|48.91|42.46|\n",
      "|             Florida|        FL|      39.7|       48.06|         51.94|        5.71|           24.92|           0.93| 3.97|             28.42|23.54|70.39|\n",
      "+--------------------+----------+----------+------------+--------------+------------+----------------+---------------+-----+------------------+-----+-----+\n",
      "only showing top 10 rows\n",
      "\n"
     ]
    }
   ],
   "source": [
    "final_demographics_data.show(10)"
   ]
  },
  {
   "cell_type": "markdown",
   "metadata": {
    "editable": true
   },
   "source": [
    "## Demographics Table\n",
    "- State : City visited\n",
    "- state_code : code of visited city\n",
    "- median_age : median age of visitor\n",
    "- male_pop_prc : male population percentage\n",
    "- female_pop_prc : female population percentage\n",
    "- veterans_prc : veterans population percentage\n",
    "- foreign_born_prc : foreign born population percentage\n",
    "- native_american : native_american population percentage\n",
    "- Asian : Asian population percentage\n",
    "- hispanic_or_latino : hispanic_or_latino population percentage\n",
    "- Black : balck population percentage\n",
    "- White : white population percentage"
   ]
  },
  {
   "cell_type": "markdown",
   "metadata": {
    "editable": true
   },
   "source": [
    "### U.S. Airport Data by State"
   ]
  },
  {
   "cell_type": "code",
   "execution_count": 118,
   "metadata": {
    "editable": true
   },
   "outputs": [],
   "source": [
    "#Filter airport data for 'small_airport' in the U.S. and use substring to show state\n",
    "airport_data=df_airports.filter(df_airports[\"type\"]==\"small_airport\")\\\n",
    ".filter(df_airports[\"iso_country\"]==\"US\")\\\n",
    ".withColumn(\"iso_region\",substring(df_airports[\"iso_region\"],4,2))\\\n",
    ".withColumn(\"elevation_ft\",col(\"elevation_ft\").cast(\"float\"))"
   ]
  },
  {
   "cell_type": "code",
   "execution_count": 119,
   "metadata": {
    "editable": true
   },
   "outputs": [
    {
     "name": "stdout",
     "output_type": "stream",
     "text": [
      "+-----+-------------+--------------------+------------+---------+-----------+----------+------------+--------+---------+----------+--------------------+\n",
      "|ident|         type|                name|elevation_ft|continent|iso_country|iso_region|municipality|gps_code|iata_code|local_code|         coordinates|\n",
      "+-----+-------------+--------------------+------------+---------+-----------+----------+------------+--------+---------+----------+--------------------+\n",
      "| 00AA|small_airport|Aero B Ranch Airport|      3435.0|       NA|         US|        KS|       Leoti|    00AA|     null|      00AA|-101.473911, 38.7...|\n",
      "| 00AK|small_airport|        Lowell Field|       450.0|       NA|         US|        AK|Anchor Point|    00AK|     null|      00AK|-151.695999146, 5...|\n",
      "| 00AL|small_airport|        Epps Airpark|       820.0|       NA|         US|        AL|     Harvest|    00AL|     null|      00AL|-86.7703018188476...|\n",
      "| 00AS|small_airport|      Fulton Airport|      1100.0|       NA|         US|        OK|        Alex|    00AS|     null|      00AS|-97.8180194, 34.9...|\n",
      "| 00AZ|small_airport|      Cordes Airport|      3810.0|       NA|         US|        AZ|      Cordes|    00AZ|     null|      00AZ|-112.165000915527...|\n",
      "| 00CA|small_airport|Goldstone /Gts/ A...|      3038.0|       NA|         US|        CA|     Barstow|    00CA|     null|      00CA|-116.888000488, 3...|\n",
      "| 00CL|small_airport| Williams Ag Airport|        87.0|       NA|         US|        CA|       Biggs|    00CL|     null|      00CL|-121.763427, 39.4...|\n",
      "| 00FA|small_airport| Grass Patch Airport|        53.0|       NA|         US|        FL|    Bushnell|    00FA|     null|      00FA|-82.2190017700195...|\n",
      "| 00FL|small_airport|   River Oak Airport|        35.0|       NA|         US|        FL|  Okeechobee|    00FL|     null|      00FL|-80.9692001342773...|\n",
      "| 00GA|small_airport|    Lt World Airport|       700.0|       NA|         US|        GA|    Lithonia|    00GA|     null|      00GA|-84.0682983398437...|\n",
      "+-----+-------------+--------------------+------------+---------+-----------+----------+------------+--------+---------+----------+--------------------+\n",
      "only showing top 10 rows\n",
      "\n"
     ]
    }
   ],
   "source": [
    "airport_data.show(10)"
   ]
  },
  {
   "cell_type": "code",
   "execution_count": 120,
   "metadata": {
    "editable": true
   },
   "outputs": [
    {
     "data": {
      "text/plain": [
       "13720"
      ]
     },
     "execution_count": 120,
     "metadata": {},
     "output_type": "execute_result"
    }
   ],
   "source": [
    "airport_data.count()"
   ]
  },
  {
   "cell_type": "code",
   "execution_count": 121,
   "metadata": {
    "editable": true
   },
   "outputs": [],
   "source": [
    "final_airport_data=airport_data.groupBy(\"iso_country\",\"iso_region\").avg(\"elevation_ft\").select(col(\"iso_country\").alias(\"country\"),\\\n",
    "                                               col(\"iso_region\").alias(\"state\"),\\\n",
    "                                               round(col(\"avg(elevation_ft)\"),1).alias(\"avg_elevation_ft\")).orderBy(\"iso_region\")"
   ]
  },
  {
   "cell_type": "code",
   "execution_count": 122,
   "metadata": {
    "editable": true
   },
   "outputs": [
    {
     "name": "stdout",
     "output_type": "stream",
     "text": [
      "+-------+-----+----------------+\n",
      "|country|state|avg_elevation_ft|\n",
      "+-------+-----+----------------+\n",
      "|     US|   AK|           545.1|\n",
      "|     US|   AL|           414.6|\n",
      "|     US|   AR|           488.4|\n",
      "|     US|   AZ|          3098.0|\n",
      "|     US|   CA|          1261.4|\n",
      "|     US|   CO|          5912.8|\n",
      "|     US|   CT|           490.3|\n",
      "|     US|   DE|            47.4|\n",
      "|     US|   FL|            77.7|\n",
      "|     US|   GA|           649.5|\n",
      "+-------+-----+----------------+\n",
      "only showing top 10 rows\n",
      "\n"
     ]
    }
   ],
   "source": [
    "final_airport_data.show(10)"
   ]
  },
  {
   "cell_type": "markdown",
   "metadata": {
    "editable": true
   },
   "source": [
    "## Airport Table\n",
    "- country : country visited (US)\n",
    "- state : city visited code\n",
    "- avg_elevation_ft : average elevation in specific city"
   ]
  },
  {
   "cell_type": "markdown",
   "metadata": {
    "editable": true
   },
   "source": [
    "### Step 3: Define the Data Model\n",
    "#### 3.1 Conceptual Data Model\n",
    "Map out the conceptual data model and explain why you chose that model\n",
    "\n"
   ]
  },
  {
   "cell_type": "markdown",
   "metadata": {
    "editable": true
   },
   "source": [
    "## Temperature Table \n",
    "\n",
    "* year : year\n",
    "* month : month\n",
    "* avg_temp : average of temperature \n",
    "* port_code : code of the city visited\n",
    "* City : name of the city visited\n",
    "* Country : United States for all data \n",
    "\n",
    "## Immigration Table\n",
    "\n",
    "* cicid\n",
    "* year : year\n",
    "* month : month\n",
    "* city_port_name : name of the arrival city\n",
    "* origin_country : country of residence\n",
    "* i94port : arrival airport (city visited)\n",
    "* state_code : code of arrival state\n",
    "* arrdate : arrival date\n",
    "* i94mode : 1 digit travel code\n",
    "* depdate = departure date from the USA\n",
    "* i94visa = reason for immigration\n",
    "\n",
    "\n",
    "## Demographics Table \n",
    "    \n",
    "* State : City visited\n",
    "* state_code : code of visited city\n",
    "* median_age : median age of visitor\n",
    "* male_pop_prc : male population percentage\n",
    "* female_pop_prc : female population percentage\n",
    "* veterans_prc : veterans population percentage\n",
    "* foreign_born_prc : foreign born population percentage\n",
    "* native_american : native_american population percentage\n",
    "* Asian : Asian population percentage\n",
    "* hispanic_or_latino : hispanic_or_latino population percentage\n",
    "* Black : balck population percentage\n",
    "* White : white population percentage\n",
    "\n",
    "## Airport Table \n",
    "\n",
    "* country : country visited (US)\n",
    "* state : city visited code\n",
    "* avg_elevation_ft : average elevation in specific city\n",
    "\n",
    "# Immigration_US Fact Table\n",
    "* avg_temp\n",
    "* female_pop_prc\n",
    "* male_pop_prc\n",
    "* month\n",
    "* year\n",
    "* foreign_born_prc\n",
    "* native_american\n",
    "* avg_elevation_ft\n",
    "* male_pop_prc\n",
    "* Asian\n",
    "* hispanic_or_latino\n",
    "* White\n",
    "* Black\n",
    "* origin_country\n",
    "* city_port_name"
   ]
  },
  {
   "cell_type": "markdown",
   "metadata": {
    "editable": true
   },
   "source": [
    "This schema was chosen because of it's simplicity and it's use in data analytics."
   ]
  },
  {
   "cell_type": "markdown",
   "metadata": {
    "editable": true
   },
   "source": [
    "#### 3.2 Mapping Out Data Pipelines\n",
    "List the steps necessary to pipeline the data into the chosen data model"
   ]
  },
  {
   "cell_type": "markdown",
   "metadata": {
    "editable": true
   },
   "source": [
    "The following steps are followed:\n",
    "- create dimension tables from cleaned data\n",
    "- create a fact table by joining dimension tables using sql query\n",
    "- convert the fact table to spark df\n",
    "- parquet fact table"
   ]
  },
  {
   "cell_type": "markdown",
   "metadata": {
    "editable": true
   },
   "source": [
    "### Step 4: Run Pipelines to Model the Data \n",
    "#### 4.1 Create the data model\n",
    "Build the data pipelines to create the data model."
   ]
  },
  {
   "cell_type": "code",
   "execution_count": 125,
   "metadata": {
    "editable": true
   },
   "outputs": [],
   "source": [
    "# Create Dimension tables\n",
    "immigration_data_df.createOrReplaceTempView(\"immigration\")\n",
    "final_demographics_data.createOrReplaceTempView(\"demographics\")\n",
    "final_airport_data.createOrReplaceTempView(\"airport\")\n",
    "df_temp_us_valid_port_filtered.createOrReplaceTempView(\"temperature\")"
   ]
  },
  {
   "cell_type": "code",
   "execution_count": 131,
   "metadata": {
    "editable": true
   },
   "outputs": [],
   "source": [
    "#allow unlimited time for SQL joins and parquet writes.\n",
    "sql_context.setConf(\"spark.sql.autoBroadcastJoinThreshold\", \"0\")"
   ]
  },
  {
   "cell_type": "markdown",
   "metadata": {
    "editable": true
   },
   "source": [
    "## Face table"
   ]
  },
  {
   "cell_type": "code",
   "execution_count": 133,
   "metadata": {
    "editable": true
   },
   "outputs": [],
   "source": [
    "immigration_us = spark.sql(\"\"\"SELECT avg_temp,d.female_pop_prc,d.male_pop_prc,m.month,m.year,d.foreign_born_prc,d.native_american,a.avg_elevation_ft,\\\n",
    "                                    d.Asian,\\\n",
    "                                    d.hispanic_or_latino,\\\n",
    "                                    d.White,\\\n",
    "                                    d.Black,\\\n",
    "                                    m.origin_country,\\\n",
    "                                    t.City,\\\n",
    "                                    m.city_port_name,\\\n",
    "                                    COUNT(m.state_code) AS state_counter,\\\n",
    "                                    COUNT(m.city_port_name) AS city_counter\\\n",
    "                                    FROM temperature t\\\n",
    "                                    JOIN demographics d\\\n",
    "                                    ON d.State = t.City\\\n",
    "                                    JOIN immigration m\\\n",
    "                                    ON t.port_code = m.i94port\\\n",
    "                                    JOIN airport a\\\n",
    "                                    ON a.state=d.state_code\\\n",
    "                                    GROUP BY m.year,m.month, m.origin_country,\\\n",
    "                                    m.state_code,t.avg_temp,a.avg_elevation_ft,\\\n",
    "                                    d.female_pop_prc,male_pop_prc,d.foreign_born_prc,d.native_american,\\\n",
    "                                    d.Asian,d.hispanic_or_latino,\\\n",
    "                                    d.hispanic_or_latino,d.White,\\\n",
    "                                    d.Black,t.City,m.city_port_name\"\"\")\n"
   ]
  },
  {
   "cell_type": "code",
   "execution_count": 134,
   "metadata": {
    "editable": true
   },
   "outputs": [
    {
     "name": "stdout",
     "output_type": "stream",
     "text": [
      "+--------+--------------+------------+-----+------+----------------+---------------+----------------+-----+------------------+-----+-----+--------------+----------+--------------------+-------------+------------+\n",
      "|avg_temp|female_pop_prc|male_pop_prc|month|  year|foreign_born_prc|native_american|avg_elevation_ft|Asian|hispanic_or_latino|White|Black|origin_country|      City|      city_port_name|state_counter|city_counter|\n",
      "+--------+--------------+------------+-----+------+----------------+---------------+----------------+-----+------------------+-----+-----+--------------+----------+--------------------+-------------+------------+\n",
      "|    12.0|         51.68|       48.32|  4.0|2016.0|           22.07|           1.94|           860.9| 6.07|             21.09|56.67|30.76|         107.0|  New York|  NEW YORK          |            1|           1|\n",
      "|    12.0|         51.68|       48.32|  4.0|2016.0|           22.07|           1.94|           860.9| 6.07|             21.09|56.67|30.76|         213.0|  New York|  NEW YORK          |            1|           1|\n",
      "|    -4.5|         51.68|       48.32|  4.0|2016.0|           22.07|           1.94|           860.9| 6.07|             21.09|56.67|30.76|         123.0|  New York|  NEW YORK          |            2|           2|\n",
      "|    22.1|         51.68|       48.32|  4.0|2016.0|           22.07|           1.94|           860.9| 6.07|             21.09|56.67|30.76|         114.0|  New York|  NEW YORK          |            1|           1|\n",
      "|    22.1|         51.68|       48.32|  4.0|2016.0|           22.07|           1.94|           860.9| 6.07|             21.09|56.67|30.76|         135.0|  New York|  NEW YORK          |            1|           1|\n",
      "|     8.0|         51.68|       48.32|  4.0|2016.0|           22.07|           1.94|           860.9| 6.07|             21.09|56.67|30.76|         109.0|  New York|  NEW YORK          |            1|           1|\n",
      "|     8.0|         51.68|       48.32|  4.0|2016.0|           22.07|           1.94|           860.9| 6.07|             21.09|56.67|30.76|         582.0|  New York|  NEW YORK          |            1|           1|\n",
      "|     2.5|         50.16|       49.84|  4.0|2016.0|           17.96|           2.55|           991.0|12.49|             16.71| 77.4| 6.43|         130.0|Washington|WASHINGTON DC    ...|            1|           1|\n",
      "|    22.1|         51.68|       48.32|  4.0|2016.0|           22.07|           1.94|           860.9| 6.07|             21.09|56.67|30.76|         251.0|  New York|  NEW YORK          |            4|           4|\n",
      "|     3.0|         51.68|       48.32|  4.0|2016.0|           22.07|           1.94|           860.9| 6.07|             21.09|56.67|30.76|         126.0|  New York|  NEW YORK          |            1|           1|\n",
      "+--------+--------------+------------+-----+------+----------------+---------------+----------------+-----+------------------+-----+-----+--------------+----------+--------------------+-------------+------------+\n",
      "only showing top 10 rows\n",
      "\n"
     ]
    }
   ],
   "source": [
    "immigration_us.show(10)"
   ]
  },
  {
   "cell_type": "code",
   "execution_count": 135,
   "metadata": {
    "editable": true
   },
   "outputs": [
    {
     "data": {
      "text/plain": [
       "1236"
      ]
     },
     "execution_count": 135,
     "metadata": {},
     "output_type": "execute_result"
    }
   ],
   "source": [
    "immigration_us.count()"
   ]
  },
  {
   "cell_type": "markdown",
   "metadata": {
    "editable": true
   },
   "source": [
    "#### 4.2 Data Quality Checks\n",
    "Explain the data quality checks you'll perform to ensure the pipeline ran as expected. These could include:\n",
    " * Integrity constraints on the relational database (e.g., unique key, data type, etc.)\n",
    " * Unit tests for the scripts to ensure they are doing the right thing\n",
    " * Source/Count checks to ensure completeness\n",
    " \n",
    "Run Quality Checks"
   ]
  },
  {
   "cell_type": "code",
   "execution_count": 136,
   "metadata": {
    "editable": true
   },
   "outputs": [
    {
     "name": "stdout",
     "output_type": "stream",
     "text": [
      "+-----+-----+-------+\n",
      "| year|month|country|\n",
      "+-----+-----+-------+\n",
      "|false|false|  false|\n",
      "+-----+-----+-------+\n",
      "\n"
     ]
    }
   ],
   "source": [
    "# Perform quality checks here\n",
    "immigration_us.select(isnull('year').alias('year'),\\\n",
    "                             isnull('month').alias('month'),\\\n",
    "                             isnull('origin_country').alias('country')).dropDuplicates().show()"
   ]
  },
  {
   "cell_type": "code",
   "execution_count": 137,
   "metadata": {
    "editable": true
   },
   "outputs": [
    {
     "name": "stdout",
     "output_type": "stream",
     "text": [
      "+----------+\n",
      "|immigrants|\n",
      "+----------+\n",
      "|       940|\n",
      "+----------+\n",
      "\n"
     ]
    }
   ],
   "source": [
    "# Count the total number of immigrants from the source table \n",
    "spark.sql('SELECT COUNT(*) as immigrants FROM immigration').show()"
   ]
  },
  {
   "cell_type": "code",
   "execution_count": 138,
   "metadata": {
    "editable": true
   },
   "outputs": [],
   "source": [
    "def count_check(df):\n",
    "    return df.count() == 0 "
   ]
  },
  {
   "cell_type": "code",
   "execution_count": 139,
   "metadata": {
    "editable": true
   },
   "outputs": [],
   "source": [
    "def integrity_check(df_immigration, df_temp):\n",
    "    return df_immigration.select(col(\"i94port\")).distinct() \\\n",
    "         .join(df_temp, df_immigration[\"i94port\"] == df_temp[\"i94port\"], \"left_anti\") \\\n",
    "         .count() == 0"
   ]
  },
  {
   "cell_type": "code",
   "execution_count": 140,
   "metadata": {
    "editable": true
   },
   "outputs": [],
   "source": [
    "def quality_check(df_immigration, df_temp):\n",
    "    return count_check(df_immigration) and count_check(df_temp) \\\n",
    "        and integrity_check(df_immigration, df_temp)"
   ]
  },
  {
   "cell_type": "code",
   "execution_count": 145,
   "metadata": {
    "editable": true
   },
   "outputs": [
    {
     "data": {
      "text/plain": [
       "False"
      ]
     },
     "execution_count": 145,
     "metadata": {},
     "output_type": "execute_result"
    }
   ],
   "source": [
    "quality_check(immigration_us,df_temp_us_valid_port_filtered)"
   ]
  },
  {
   "cell_type": "code",
   "execution_count": 142,
   "metadata": {
    "editable": true
   },
   "outputs": [
    {
     "data": {
      "text/plain": [
       "False"
      ]
     },
     "execution_count": 142,
     "metadata": {},
     "output_type": "execute_result"
    }
   ],
   "source": [
    "count_check(df_demographics)"
   ]
  },
  {
   "cell_type": "code",
   "execution_count": 143,
   "metadata": {
    "editable": true
   },
   "outputs": [
    {
     "data": {
      "text/plain": [
       "False"
      ]
     },
     "execution_count": 143,
     "metadata": {},
     "output_type": "execute_result"
    }
   ],
   "source": [
    "count_check(df_airports)"
   ]
  },
  {
   "cell_type": "code",
   "execution_count": 144,
   "metadata": {
    "editable": true
   },
   "outputs": [
    {
     "name": "stdout",
     "output_type": "stream",
     "text": [
      "+----------------+\n",
      "|fact_table_count|\n",
      "+----------------+\n",
      "|            2112|\n",
      "+----------------+\n",
      "\n"
     ]
    }
   ],
   "source": [
    "# people immigrant to united states from fact table\n",
    "immigration_us.select(sum('city_counter').alias('fact_table_count')).show()"
   ]
  },
  {
   "cell_type": "code",
   "execution_count": null,
   "metadata": {
    "editable": true
   },
   "outputs": [],
   "source": []
  },
  {
   "cell_type": "markdown",
   "metadata": {
    "editable": true
   },
   "source": [
    "#### 4.3 Data dictionary \n",
    "Create a data dictionary for your data model. For each field, provide a brief description of what the data is and where it came from. You can include the data dictionary in the notebook or in a separate file."
   ]
  },
  {
   "cell_type": "markdown",
   "metadata": {
    "editable": true
   },
   "source": [
    "Please refer the data dictionary in the uppper section (dimentional tables and the fact table.)"
   ]
  },
  {
   "cell_type": "code",
   "execution_count": null,
   "metadata": {
    "editable": true
   },
   "outputs": [],
   "source": []
  },
  {
   "cell_type": "markdown",
   "metadata": {
    "editable": true
   },
   "source": [
    "#### Step 5: Complete Project Write Up\n",
    "* Clearly state the rationale for the choice of tools and technologies for the project.\n",
    "* Propose how often the data should be updated and why.\n",
    "* Write a description of how you would approach the problem differently under the following scenarios:\n",
    " * The data was increased by 100x.\n",
    " * The data populates a dashboard that must be updated on a daily basis by 7am every day.\n",
    " * The database needed to be accessed by 100+ people."
   ]
  },
  {
   "cell_type": "markdown",
   "metadata": {
    "editable": true
   },
   "source": [
    "1. Apache Spark is chosen to read, transform, and create data outputs for further data analysis. The reason for this was due to the small amount of data and the speed of Spark.\n",
    "2. The data should be updated quarterly. This gives the most up-to-date data for government and organizations.\n",
    "3. If the data set increases by 100x, Amazon Redshift would be uesed. This is because it is an analytical database that can be optimized for aggregation and read-heavy workloads.\n",
    "If the data needs to be populated and updated on a daily basis, Airflow would be used. DAGs can be created to retry and send emails on failures. \n",
    "If the database needs to be accessed by 100+ people, Redshift can be used to have the data stored. AWS workspace can be efficiently accessed by many users."
   ]
  },
  {
   "cell_type": "code",
   "execution_count": null,
   "metadata": {
    "editable": true
   },
   "outputs": [],
   "source": []
  },
  {
   "cell_type": "code",
   "execution_count": null,
   "metadata": {
    "editable": true
   },
   "outputs": [],
   "source": []
  },
  {
   "cell_type": "code",
   "execution_count": null,
   "metadata": {
    "editable": true
   },
   "outputs": [],
   "source": []
  },
  {
   "cell_type": "code",
   "execution_count": null,
   "metadata": {
    "editable": true
   },
   "outputs": [],
   "source": []
  },
  {
   "cell_type": "code",
   "execution_count": null,
   "metadata": {
    "editable": true
   },
   "outputs": [],
   "source": []
  }
 ],
 "metadata": {
  "kernelspec": {
   "display_name": "Python 3",
   "language": "python",
   "name": "python3"
  },
  "language_info": {
   "codemirror_mode": {
    "name": "ipython",
    "version": 3
   },
   "file_extension": ".py",
   "mimetype": "text/x-python",
   "name": "python",
   "nbconvert_exporter": "python",
   "pygments_lexer": "ipython3",
   "version": "3.6.3"
  }
 },
 "nbformat": 4,
 "nbformat_minor": 4
}
